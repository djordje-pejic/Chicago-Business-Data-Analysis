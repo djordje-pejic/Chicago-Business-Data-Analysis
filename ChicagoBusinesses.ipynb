{
 "cells": [
  {
   "cell_type": "code",
   "execution_count": 1,
   "id": "ccfcef22",
   "metadata": {
    "scrolled": true
   },
   "outputs": [],
   "source": [
    "import numpy as np\n",
    "import pandas as pd \n",
    "from pandas_profiling import ProfileReport \n",
    "\n",
    "pd.set_option('display.max_columns', None) \n",
    "pd.set_option('display.max_rows', None) \n",
    "\n",
    "all_data = pd.read_csv('./Resources/allData.csv', low_memory=False) \n",
    "\n",
    "#changing coLumn names for easier use \n",
    "all_data = all_data.rename(columns=str.lower) \n",
    "all_data = all_data.rename(columns=str.strip) \n",
    "all_data.columns = all_data.columns.str.replace(\" \", \"_\")\n",
    "\n",
    "#Creating a Chicago dataframe with reLevant attributes \n",
    "df = all_data[all_data['city'] == 'CHICAGO'][['id', 'legal_name', 'doing_business_as_name', 'state', 'city', \n",
    "                                              'zip_code', 'address', 'ward', 'precinct', 'ward_precinct', 'police_district', 'latitude', 'longitude', 'location', \n",
    "                                              'business_activity', 'business_activity_id']] \n",
    "\n",
    "df = df.where(pd.notnull(df), None)"
   ]
  },
  {
   "cell_type": "code",
   "execution_count": 2,
   "id": "5f4913e3",
   "metadata": {},
   "outputs": [
    {
     "data": {
      "application/vnd.jupyter.widget-view+json": {
       "model_id": "4b7ba16ba19d429fabc00affd6c2375d",
       "version_major": 2,
       "version_minor": 0
      },
      "text/plain": [
       "Summarize dataset:   0%|          | 0/5 [00:00<?, ?it/s]"
      ]
     },
     "metadata": {},
     "output_type": "display_data"
    },
    {
     "name": "stdout",
     "output_type": "stream",
     "text": [
      "Dataset length: 51505\n",
      "id: 0\n",
      "legal_name: 0\n",
      "doing_business_as_name: 36\n",
      "state: 0\n",
      "city: 0\n",
      "zip_code: 12\n",
      "address: 0\n",
      "ward: 61\n",
      "precinct: 12530\n",
      "ward_precinct: 61\n",
      "police_district: 12091\n",
      "latitude: 954\n",
      "longitude: 954\n",
      "location: 954\n",
      "business_activity: 4312\n",
      "business_activity_id: 4312\n",
      "Count of address dummy values: 302\n"
     ]
    }
   ],
   "source": [
    "'''Using profile report to extract the number of missing values for the initial dataset\n",
    "   \n",
    "   prints a list of attributes with corresponding missing values\n",
    "   \n",
    "   uses pandas_profiling's class Profile report\n",
    "'''\n",
    "report = ProfileReport(df)\n",
    "report = report.get_description()\n",
    "\n",
    "print('Dataset length: ' + str(len(df)))\n",
    "for key in report['variables'].keys():\n",
    "    print(key + \": \" + str(report['variables'][key]['n_missing']))\n",
    "    \n",
    "#addresses have dummy values\n",
    "#instead of an address [REDACTED FOR PRIVACY] is written\n",
    "print('Count of address dummy values: ' + str(len(df[df['address'] == '[REDACTED FOR PRIVACY]'])))"
   ]
  },
  {
   "cell_type": "code",
   "execution_count": 3,
   "id": "e51d2740",
   "metadata": {},
   "outputs": [],
   "source": [
    "'''Formatting business_activitiy and business_activity_id\n",
    "\n",
    "   converting a string of values to list\n",
    "   \n",
    "   using functions split_activity and split_activity_int\n",
    "'''\n",
    "def split_activity(activities):\n",
    "    '''takes a string of activities connected with |\n",
    "       returns a list of strings, splitted on |\n",
    "    '''\n",
    "    if activities != None:\n",
    "        return activities.split(\" | \")\n",
    "    \n",
    "def split_activity_int(activities):\n",
    "    '''takes a string of numerical activity ids connected with |\n",
    "       returns a list of integers, splitted on |\n",
    "    '''\n",
    "    if activities != None:\n",
    "        temp = activities.split(\" | \")\n",
    "        return [int(x) for x in temp]    \n",
    "    \n",
    "#splitting every cell of activities and activity ids, so I can get an array for businesses with more than one activity\n",
    "df['business_activities'] = df['business_activity'].apply(lambda x: split_activity(x))\n",
    "df['business_activities_ids'] = df['business_activity_id'].apply(split_activity_int)"
   ]
  },
  {
   "cell_type": "code",
   "execution_count": 4,
   "id": "9fb3035e",
   "metadata": {},
   "outputs": [],
   "source": [
    "'''Merging the businesses that appear several times in df\n",
    "\n",
    "   - creating new attributes business_activities and business_activities_ids\n",
    "   - converting strings business_activity and business_activity_id and placing the values to newly created attributes\n",
    "   - removes duplicate values from business_activities and business_activities_ids\n",
    "   \n",
    "   using split_activity, split_activity_int, string_to_list\n",
    "'''\n",
    "def split_activity(activities):\n",
    "    '''takes a string of activities connected with |\n",
    "       returns a list of strings, splitted on |\n",
    "    '''\n",
    "    if activities != None:\n",
    "        return activities.split(\" | \")\n",
    "    \n",
    "def split_activity_int(activities):\n",
    "    '''takes a string of numerical activity ids connected with |\n",
    "       returns a list of integers, splitted on |\n",
    "    '''\n",
    "    if activities != None:\n",
    "        temp = activities.split(\" | \")\n",
    "        return [int(x) for x in temp] \n",
    "    \n",
    "def remove_duplicates(df_series_object):\n",
    "    '''business_activities and business_activities_ids contained duplicate values\n",
    "    in the cases of no values, 0 was present instead of []\n",
    "    This function removes duplicate values and replaces 0 with []'''\n",
    "    if df_series_object == 0:\n",
    "        return []\n",
    "    return [*set(df_series_object)]\n",
    "    \n",
    "def string_to_list(text):\n",
    "    temp = []\n",
    "    temp.append(text)\n",
    "    return temp\n",
    "\n",
    "df['business_activities'] = df['business_activity'].apply(split_activity)\n",
    "df['business_activities_ids'] = df['business_activity_id'].apply(split_activity_int)\n",
    "df['id'] = df['id'].apply(string_to_list)\n",
    "\n",
    "df = (df.groupby(['legal_name', 'doing_business_as_name', 'address', 'ward', 'precinct', 'ward_precinct', 'police_district', 'state', 'city', 'zip_code', 'latitude', 'longitude', 'location'], dropna = False)[['id','business_activities', 'business_activities_ids']].sum().reset_index())\n",
    "\n",
    "#taking only the first id\n",
    "df['id'] = df['id'].apply(lambda x: str(x[0]))\n",
    "\n",
    "df['business_activities'] = df['business_activities'].apply(remove_duplicates)\n",
    "df['business_activities_ids'] = df['business_activities_ids'].apply(remove_duplicates)"
   ]
  },
  {
   "cell_type": "code",
   "execution_count": 5,
   "id": "6e170aeb",
   "metadata": {},
   "outputs": [
    {
     "data": {
      "application/vnd.jupyter.widget-view+json": {
       "model_id": "d36d14cc303c41dda141e5caf7216264",
       "version_major": 2,
       "version_minor": 0
      },
      "text/plain": [
       "Summarize dataset:   0%|          | 0/5 [00:00<?, ?it/s]"
      ]
     },
     "metadata": {},
     "output_type": "display_data"
    },
    {
     "name": "stdout",
     "output_type": "stream",
     "text": [
      "Dataset length: 41399\n",
      "legal_name: 0\n",
      "doing_business_as_name: 36\n",
      "address: 0\n",
      "ward: 55\n",
      "precinct: 11345\n",
      "ward_precinct: 55\n",
      "police_district: 11067\n",
      "state: 0\n",
      "city: 0\n",
      "zip_code: 12\n",
      "latitude: 687\n",
      "longitude: 687\n",
      "location: 687\n",
      "id: 0\n",
      "business_activities: 0\n",
      "business_activities_ids: 0\n",
      "Count of address dummy values: 246\n",
      "Unique IDs:41399\n"
     ]
    }
   ],
   "source": [
    "'''Using profile report to extract the number of missing values for the modified dataset\n",
    "   \n",
    "   prints a list of attributes with corresponding missing values\n",
    "   \n",
    "   uses pandas_profiling's class Profile report\n",
    "'''\n",
    "report = ProfileReport(df)\n",
    "report = report.get_description()\n",
    "\n",
    "print('Dataset length: ' + str(len(df)))\n",
    "for key in report['variables'].keys():\n",
    "    print(key + \": \" + str(report['variables'][key]['n_missing']))\n",
    "    \n",
    "#addresses have dummy values\n",
    "#instead of an address [REDACTED FOR PRIVACY] is written\n",
    "print('Count of address dummy values: ' + str(len(df[df['address'] == '[REDACTED FOR PRIVACY]'])))\n",
    "\n",
    "#checking for unique IDs\n",
    "print(\"Unique IDs:\" + str(report['variables']['id']['n_unique']))"
   ]
  },
  {
   "cell_type": "code",
   "execution_count": 6,
   "id": "d8cbd7d1",
   "metadata": {},
   "outputs": [],
   "source": [
    "'''Business-activity standardization\n",
    "\n",
    "   loads .csv with business activities and their standardized values\n",
    "   makes a name_stand_dict with the key:value being a business activity and its standardized value\n",
    "   adds an attribute standardized_activities to the df based on names_stand_dict\n",
    "   \n",
    "   uses function standardize to create standardized_activities attribute\n",
    "'''\n",
    "activities_stand = pd.read_csv('./Resources/standardizedActivities.csv')\n",
    "\n",
    "activities_names = activities_stand['original_value']\n",
    "activities_stand_values = activities_stand['standardized_value']\n",
    "\n",
    "activities_stand_values = activities_stand_values.to_list()\n",
    "\n",
    "names_stand_dict = {}\n",
    "for i in range(len(activities_names)):\n",
    "    names_stand_dict[activities_names[i]] = activities_stand_values[i]\n",
    "    \n",
    "def standardize(dict_object, dframe_object, series_name):\n",
    "    #dict_objec{series_name value: standardized value}\n",
    "    #replaces series_name values with the ones from dict_object\n",
    "    temp = dframe_object.copy()[series_name]\n",
    "    temp = temp.apply(lambda x: [dict_object[i] for i in x if i in dict_object.keys()])\n",
    "    return temp\n",
    "\n",
    "df['standardized_activities'] = standardize(names_stand_dict, df, 'business_activities')"
   ]
  },
  {
   "cell_type": "code",
   "execution_count": 7,
   "id": "6b3d5e0f",
   "metadata": {},
   "outputs": [
    {
     "name": "stdout",
     "output_type": "stream",
     "text": [
      "City: Chicago, State Illinois: 41397\n",
      "City: Chicago, State not Illinois: 2\n",
      "Number of Chicago ZIP codes: 41362\n",
      "Number of non-Chicago ZIP codes: 37\n"
     ]
    }
   ],
   "source": [
    "#Checking whether every recod has Chicago as the city, and Illinois as the state\n",
    "print(\"City: Chicago, State Illinois: \" + str(len(df[(df['city']=='CHICAGO') & (df['state']==\"IL\")])))\n",
    "print(\"City: Chicago, State not Illinois: \" + str(len(df[(df['city']=='CHICAGO') & (df['state']!=\"IL\")])))\n",
    "\n",
    "#Checking if every record has Chicago zip code (start with 606, 607, or 608)\n",
    "print(\"Number of Chicago ZIP codes: \" + str(len(df[df['zip_code'].apply(lambda x: str(x)[:3] in ['606', '607', '608'])])))\n",
    "print(\"Number of non-Chicago ZIP codes: \" + str(len(df[df['zip_code'].apply(lambda x: str(x)[:3] not in ['606', '607', '608'])])))"
   ]
  },
  {
   "cell_type": "code",
   "execution_count": 8,
   "id": "9f0070e4",
   "metadata": {},
   "outputs": [
    {
     "data": {
      "text/html": [
       "<div>\n",
       "<style scoped>\n",
       "    .dataframe tbody tr th:only-of-type {\n",
       "        vertical-align: middle;\n",
       "    }\n",
       "\n",
       "    .dataframe tbody tr th {\n",
       "        vertical-align: top;\n",
       "    }\n",
       "\n",
       "    .dataframe thead th {\n",
       "        text-align: right;\n",
       "    }\n",
       "</style>\n",
       "<table border=\"1\" class=\"dataframe\">\n",
       "  <thead>\n",
       "    <tr style=\"text-align: right;\">\n",
       "      <th></th>\n",
       "      <th>id</th>\n",
       "      <th>city</th>\n",
       "      <th>state</th>\n",
       "    </tr>\n",
       "  </thead>\n",
       "  <tbody>\n",
       "    <tr>\n",
       "      <th>18416</th>\n",
       "      <td>2652776-20210316</td>\n",
       "      <td>CHICAGO</td>\n",
       "      <td>ID</td>\n",
       "    </tr>\n",
       "    <tr>\n",
       "      <th>35750</th>\n",
       "      <td>2627344-20211016</td>\n",
       "      <td>CHICAGO</td>\n",
       "      <td>IN</td>\n",
       "    </tr>\n",
       "  </tbody>\n",
       "</table>\n",
       "</div>"
      ],
      "text/plain": [
       "                     id     city state\n",
       "18416  2652776-20210316  CHICAGO    ID\n",
       "35750  2627344-20211016  CHICAGO    IN"
      ]
     },
     "execution_count": 8,
     "metadata": {},
     "output_type": "execute_result"
    }
   ],
   "source": [
    "#Two records that have Chicago as city, but the state is not Illinois\n",
    "df[(df['city']=='CHICAGO') & (df['state']!=\"IL\")][['id', 'city', 'state']]"
   ]
  },
  {
   "cell_type": "code",
   "execution_count": 9,
   "id": "678a7d0d",
   "metadata": {},
   "outputs": [],
   "source": [
    "'''Creating a dataframe with high quality data (has legal name, and DBA, address, state, \n",
    "   Chicago ZIP code, and list of business activities)\n",
    "   \n",
    "   uses get_high_quality_data function'''\n",
    "\n",
    "def get_high_quality_data(dframe):\n",
    "    \"\"\"returns a dataframe containing only records that meet the following criteria: \n",
    "            name: it must have both legal name and DBA. \n",
    "            address: it must have address and location. [REDACTED FOR PRIVACY] not allowed\n",
    "            state: it must be in Illinois\n",
    "            ZIP Code: Chicago ZIP codes start with 606, 607, or 608\n",
    "            business activities: it has to contain the list of business activities\n",
    "    \"\"\"\n",
    "    copy_df = dframe.copy(deep=True)\n",
    "    \n",
    "    copy_df['business_activities'] = copy_df['business_activities'].apply(lambda x: tuple(x))\n",
    "    copy_df['business_activities_ids'] = copy_df['business_activities_ids'].apply(lambda x: tuple(x))\n",
    "    copy_df['standardized_activities'] = copy_df['standardized_activities'].apply(lambda x: tuple(x))\n",
    "\n",
    "    high_quality = copy_df[(copy_df['doing_business_as_name'].notnull()) \n",
    "                          & (copy_df['address'] != '[REDACTED FOR PRIVACY]') \n",
    "                          & (copy_df['state'] == 'IL')\n",
    "                          & (copy_df['zip_code'].apply(lambda x: str(x)[:3] in ['606', '607', '608']))\n",
    "                          & (copy_df['location'].notnull()) \n",
    "                          & (copy_df['business_activities'].apply(lambda x: len(x) != 0))]\n",
    "    \n",
    "    return high_quality\n",
    "\n",
    "high_quality = get_high_quality_data(df)"
   ]
  },
  {
   "cell_type": "code",
   "execution_count": 10,
   "id": "6dd101ac",
   "metadata": {},
   "outputs": [
    {
     "name": "stdout",
     "output_type": "stream",
     "text": [
      "Percentage of high-quality data: 88.0%\n"
     ]
    }
   ],
   "source": [
    "print(\"Percentage of high-quality data: \" + str(round(len(high_quality)/len(df)*100, 0)) + \"%\")"
   ]
  }
 ],
 "metadata": {
  "kernelspec": {
   "display_name": "Python 3 (ipykernel)",
   "language": "python",
   "name": "python3"
  },
  "language_info": {
   "codemirror_mode": {
    "name": "ipython",
    "version": 3
   },
   "file_extension": ".py",
   "mimetype": "text/x-python",
   "name": "python",
   "nbconvert_exporter": "python",
   "pygments_lexer": "ipython3",
   "version": "3.10.4"
  }
 },
 "nbformat": 4,
 "nbformat_minor": 5
}
